{
 "cells": [
  {
   "cell_type": "markdown",
   "metadata": {},
   "source": [
    "#### 1. Try to model the result of a coin toss. In your model, include any features that you think important in explaining the result. Discuss with your mentor about the pros and cons of adding too many features into your model."
   ]
  },
  {
   "cell_type": "markdown",
   "metadata": {},
   "source": [
    "In this model, the coin tossed is fair. \n",
    "Important features in coin toss:\n",
    "<ul><li>What side coin is on before it is tossed</li>\n",
    "    <li>Size and weight of coin</li>\n",
    "    <li>Number of flips/rotations of a coin</li>\n",
    "    <li>How coin is flipped/rotated (ex. with thumb)</li>\n",
    "    <li>Landing surface (ex. wood, metal, grass)</li>"
   ]
  },
  {
   "cell_type": "markdown",
   "metadata": {},
   "source": [
    "#### 2. If you ever used Netflix, you should already have realized that it provides some recommendations for you to watch. In data science, this is an example of the so-called recommendations systems. Read this nontechnical blog post of Netflix about how they model their recommendations systems. Then, derive the features they use in their recommendations engines and discuss what else can be incorporated into this model."
   ]
  },
  {
   "cell_type": "markdown",
   "metadata": {},
   "source": [
    "Netflix models their recommendation systems based on the following features:\n",
    "\n",
    "<ul><li>interactions with the service (such as viewing history and ratings of other titles)</li>\n",
    "    <li>information about the titles (such as genre, categories, actors, release year, etc.)</li>\n",
    "    <li>the time of day watched</li>\n",
    "    <li>the devices used to watch Netflix</li>\n",
    "    <li>length the users watched Netflix</li></ul>\n",
    "\n",
    "These variables act as inputs into their algorithm.  Then they display the results in a personalized manner by displaying the titles by rank.  The titles with the highest likelihood of being watched display left to right by row with the top row offering the most relevant titles.\n",
    "\n",
    "The algorithms are consistently updated based on the variables above.  \n",
    "\n",
    "Additional features that can be incorporated are:\n",
    "<ul><li>For TV shows, what network they are/were on</li>\n",
    "    <li>Different images for each title displayed based on data from previous watching preferences</li>\n",
    "    <li>Addition to how long a title is watched (if not finished) to include what scenes were specifically watched or how many         episodes</li>\n",
    "    <li>Regional preferences based on location of users</li></ul>"
   ]
  }
 ],
 "metadata": {
  "kernelspec": {
   "display_name": "Python 3",
   "language": "python",
   "name": "python3"
  },
  "language_info": {
   "codemirror_mode": {
    "name": "ipython",
    "version": 3
   },
   "file_extension": ".py",
   "mimetype": "text/x-python",
   "name": "python",
   "nbconvert_exporter": "python",
   "pygments_lexer": "ipython3",
   "version": "3.7.3"
  }
 },
 "nbformat": 4,
 "nbformat_minor": 2
}
